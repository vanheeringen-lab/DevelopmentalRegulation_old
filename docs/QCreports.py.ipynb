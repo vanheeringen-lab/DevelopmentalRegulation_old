{
 "cells": [
  {
   "cell_type": "markdown",
   "metadata": {},
   "source": [
    "## QC reports"
   ]
  },
  {
   "cell_type": "code",
   "execution_count": 1,
   "metadata": {
    "tags": [
     "hide-input"
    ]
   },
   "outputs": [
    {
     "data": {
      "text/html": [
       "QC reports: <ul><li><a href=\"https://vanheeringen-lab.github.io/DevelopmentalRegulation/_sources/data/s2s_qc/multiqc_Astyanax_mexicanus-2.0.html\">cavefish</a></li><li><a href=\"https://vanheeringen-lab.github.io/DevelopmentalRegulation/_sources/data/s2s_qc/multiqc_xenTro9.html\">frog</a></li><li><a href=\"https://vanheeringen-lab.github.io/DevelopmentalRegulation/_sources/data/s2s_qc/multiqc_GRCg6a.html\">chicken</a></li><li><a href=\"https://vanheeringen-lab.github.io/DevelopmentalRegulation/_sources/data/s2s_qc/multiqc_Bl71nemr.html\">amphioxus</a></li><li><a href=\"https://vanheeringen-lab.github.io/DevelopmentalRegulation/_sources/data/s2s_qc/multiqc_danRer11.html\">zebrafish</a></li><li><a href=\"https://vanheeringen-lab.github.io/DevelopmentalRegulation/_sources/data/s2s_qc/multiqc_ASM223467v1.html\">medaka</a></li><li><a href=\"https://vanheeringen-lab.github.io/DevelopmentalRegulation/_sources/data/s2s_qc/multiqc_mm10.html\">mouse</a></li><li><a href=\"https://vanheeringen-lab.github.io/DevelopmentalRegulation/_sources/data/s2s_qc/multiqc_ASM318616v1.html\">turbot</a></li></ul>"
      ],
      "text/plain": [
       "<IPython.core.display.HTML object>"
      ]
     },
     "metadata": {},
     "output_type": "display_data"
    }
   ],
   "source": [
    "import os\n",
    "import sys\n",
    "import inspect\n",
    "import glob\n",
    "\n",
    "from IPython.core.display import display, HTML\n",
    "\n",
    "currentdir = os.path.dirname(os.path.abspath(inspect.getfile(inspect.currentframe())))\n",
    "parentdir = os.path.dirname(currentdir)\n",
    "sys.path.insert(0,parentdir) \n",
    "\n",
    "import analysis.util as util\n",
    "\n",
    "text = \"QC reports: \"\n",
    "text += \"<ul>\"\n",
    "for file in glob.glob(\"../data/s2s_qc/*.html\"):\n",
    "    assembly = \".\".join(file.split(\"multiqc_\")[1].split(\".html\"))[:-1]\n",
    "    text += f\"\"\"<li><a href=\"https://vanheeringen-lab.github.io/DevelopmentalRegulation/_sources/data/s2s_qc/multiqc_{assembly}.html\">{util.ass2name(assembly)}</a></li>\"\"\"\n",
    "text += \"</ul>\"\n",
    "    \n",
    "display(HTML(text))"
   ]
  },
  {
   "cell_type": "code",
   "execution_count": null,
   "metadata": {},
   "outputs": [],
   "source": []
  }
 ],
 "metadata": {
  "celltoolbar": "Tags",
  "kernelspec": {
   "display_name": "Python 3",
   "language": "python",
   "name": "python3"
  },
  "language_info": {
   "codemirror_mode": {
    "name": "ipython",
    "version": 3
   },
   "file_extension": ".py",
   "mimetype": "text/x-python",
   "name": "python",
   "nbconvert_exporter": "python",
   "pygments_lexer": "ipython3",
   "version": "3.8.5"
  }
 },
 "nbformat": 4,
 "nbformat_minor": 4
}
